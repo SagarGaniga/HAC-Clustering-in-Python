{
 "cells": [
  {
   "cell_type": "markdown",
   "metadata": {},
   "source": [
    "# AIM\n",
    "## Hierarchical Agglomerative Clustering Implementation\n",
    "\n",
    "The first step in the algorithm is to create a distance matrix. To find the distances between each of the points, we are using Euclidean distance. Initially, each and every point is a cluster. Then to merge the clusters, we check the entire distance matrix for the minimum distance between two clusters because we are doing HAC with Min link. Once we find the minimum distance between two clusters, we merge these clusters and update the distance matrix by finding out the new distance between the cluster we formed and all the other clusters in the distance matrix. Everytime we merge two clusters, we create a dendogram which shows the link between two merged clusters. We repeat this same process of merging minimum clusters until we get the desired number of cluster which depends on the k-value or until until we merge all objects into a single cluster."
   ]
  },
  {
   "cell_type": "markdown",
   "metadata": {},
   "source": [
    "### Importing Dependencies"
   ]
  },
  {
   "cell_type": "code",
   "execution_count": 29,
   "metadata": {
    "collapsed": true
   },
   "outputs": [],
   "source": [
    "import numpy as np\n",
    "import pickle\n",
    "import time\n",
    "import sys\n",
    "from sklearn.decomposition import PCA as sklearnPCA\n"
   ]
  },
  {
   "cell_type": "markdown",
   "metadata": {},
   "source": [
    "### Preprocess the input data\n",
    "\n",
    "**Input Parameters** : file name\n",
    "\n",
    "\n",
    "**returns**: output matrix X, disease id and the ground truth"
   ]
  },
  {
   "cell_type": "code",
   "execution_count": 30,
   "metadata": {
    "collapsed": true
   },
   "outputs": [],
   "source": [
    "def preprocess(filename):\n",
    "    inpdata = np.genfromtxt(filename,delimiter = '\\t')\n",
    "    X = np.loadtxt(filename,delimiter = '\\t', usecols = range(2, inpdata.shape[1]), dtype = 'S15')\n",
    "    gen_id = np.loadtxt(filename,delimiter = '\\t', usecols = 0, dtype = 'S15')\n",
    "    ground_truth = np.loadtxt(filename,delimiter = '\\t', usecols = 1, dtype = 'S15')\n",
    "    return X, gen_id, ground_truth"
   ]
  },
  {
   "cell_type": "markdown",
   "metadata": {},
   "source": [
    "## Function to run the Heirarchical Agglomerative Clustering Algorithm\n",
    "\n",
    "**Input Parameters** : input matrix X, disease id and the number of clusters k.\n",
    "\n",
    "\n",
    "**returns**: cluster pca matrix and clusters"
   ]
  },
  {
   "cell_type": "code",
   "execution_count": 31,
   "metadata": {
    "collapsed": true
   },
   "outputs": [],
   "source": [
    "def agglomerative_clus(gen_id, distance_matrix, k):\n",
    "    clusters = gen_id.tolist()\n",
    "    \n",
    "    cluster_pca = []\n",
    "    for i in gen_id:\n",
    "        cluster_pca.append([i])\n",
    "    while(len(clusters) > k):\n",
    "#         print (clusters)\n",
    "        in1, in2 = find_min_indices(distance_matrix)\n",
    "        left = -1\n",
    "        right = -1\n",
    "        if(in1 < in2):\n",
    "            left = in1\n",
    "            right = in2\n",
    "        else:\n",
    "            right = in1 \n",
    "            left = in2\n",
    "        if(type(clusters[left]) == bytes):\n",
    "            clusters[left] = clusters[left].decode(\"utf-8\") \n",
    "        if(type(clusters[right]) == bytes):\n",
    "            clusters[right] = clusters[right].decode(\"utf-8\") \n",
    "        merged_cluster = \"(\"+clusters[left] + \",\" + clusters[right] + \")\"\n",
    "        clusters[left] = merged_cluster\n",
    "        cluster_pca[left] = cluster_pca[left] + cluster_pca[right]\n",
    "        del clusters[right]\n",
    "        del cluster_pca[right]\n",
    "        for i in range(0, len(distance_matrix)):\n",
    "            distance_matrix[left][i] = min(distance_matrix[left][i], distance_matrix[right][i])\n",
    "            distance_matrix[i][left] = min(distance_matrix[left][i], distance_matrix[right][i])\n",
    "        distance_matrix = np.delete(distance_matrix, right, 0)\n",
    "        distance_matrix = np.delete(distance_matrix, right, 1)\n",
    "    return cluster_pca, clusters"
   ]
  },
  {
   "cell_type": "markdown",
   "metadata": {},
   "source": [
    "### Draw Scatter Plot using plotly\n",
    "\n",
    "**Input Parameters** : 2 dimensional data and its label\n",
    "\n",
    "\n",
    "**prints**: visualized clusters"
   ]
  },
  {
   "cell_type": "code",
   "execution_count": null,
   "metadata": {
    "collapsed": true
   },
   "outputs": [],
   "source": []
  },
  {
   "cell_type": "markdown",
   "metadata": {},
   "source": [
    "### Find the indices of cell which has the minimum value for HAC \n",
    "\n",
    "**Input Parameters** : distance matrix of size m X n\n",
    "\n",
    "\n",
    "**returns**: indices i and j"
   ]
  },
  {
   "cell_type": "code",
   "execution_count": 32,
   "metadata": {
    "collapsed": true
   },
   "outputs": [],
   "source": [
    "def find_min_indices(distance_matrix):\n",
    "    index1 = -1\n",
    "    index2 = -1\n",
    "    min_elem = sys.maxsize\n",
    "    for i in range(0, distance_matrix.shape[0]):\n",
    "        for j in range(0, distance_matrix.shape[1]):\n",
    "            if(i != j):\n",
    "                if(distance_matrix[i][j] < min_elem):\n",
    "                    min_elem = distance_matrix[i][j]\n",
    "                    index1 = i \n",
    "                    index2 = j\n",
    "    return index1, index2"
   ]
  },
  {
   "cell_type": "markdown",
   "metadata": {},
   "source": [
    "### Calculate the Jaccard value of predicted data\n",
    "\n",
    "**Input Parameters** : actual ground truth matrix and predicted ground truth\n",
    "\n",
    "\n",
    "**returns**: None\n",
    "\n",
    "\n",
    "**prints**: Jaccard and Rand value on console"
   ]
  },
  {
   "cell_type": "code",
   "execution_count": 33,
   "metadata": {
    "collapsed": true
   },
   "outputs": [],
   "source": [
    "def calculateJackard(actual_ground_truth, predicted_ground_truth):\n",
    "    m00, m01, m10, m11 = 0, 0, 0, 0\n",
    "    for i in range(0, len(actual_ground_truth)):\n",
    "        for j in range(0, len(actual_ground_truth)):\n",
    "            if((actual_ground_truth[i] != actual_ground_truth[j]) and (predicted_ground_truth[i] != predicted_ground_truth[j])):\n",
    "                m00 += 1\n",
    "            elif((actual_ground_truth[i] == actual_ground_truth[j]) and (predicted_ground_truth[i] != predicted_ground_truth[j])):\n",
    "                m01 += 1\n",
    "            elif((actual_ground_truth[i] != actual_ground_truth[j]) and (predicted_ground_truth[i] == predicted_ground_truth[j])):\n",
    "                m10 += 1\n",
    "            elif((actual_ground_truth[i] == actual_ground_truth[j]) and (predicted_ground_truth[i] == predicted_ground_truth[j])):\n",
    "                m11 += 1\n",
    "    jaccard = m11 / float(m11 + m10 + m01)\n",
    "    rand = (m11 + m00) / float(m11 + m10 + m01 + m00)\n",
    "    print(\" Effieciency is : \" + str(jaccard*40)),\n",
    "    print(\" Rand is : \" + str(rand))"
   ]
  },
  {
   "cell_type": "markdown",
   "metadata": {},
   "source": [
    "### Run principle component analysis to convert n-dimensional data to 2 dimensions in order to visualize\n",
    "**Input Parameters** : input matrix X\n",
    "\n",
    "\n",
    "**returns**: Eigen Vector Y"
   ]
  },
  {
   "cell_type": "code",
   "execution_count": 34,
   "metadata": {
    "collapsed": true
   },
   "outputs": [],
   "source": [
    "def runPCA(X):\n",
    "    sklearn_pca = sklearnPCA(n_components=2)\n",
    "    Y_sklearn = sklearn_pca.fit_transform(X)\n",
    "    return Y_sklearn"
   ]
  },
  {
   "cell_type": "markdown",
   "metadata": {},
   "source": [
    "## Driver program to run the above code\n",
    "\n",
    "**Input Parameters** : file name and no of clusters\n",
    "\n",
    "\n",
    "**prints**: Jackard value and scatter plot"
   ]
  },
  {
   "cell_type": "code",
   "execution_count": 35,
   "metadata": {
    "collapsed": true
   },
   "outputs": [],
   "source": [
    "def driver(file_name, k_value):\n",
    "    X, gen_id, ground_truth = preprocess(file_name)\n",
    "    len_X = X.shape[0]\n",
    "    #Create the distance matrix for the input data\n",
    "    distance_matrix = np.zeros((len_X, len_X), dtype='float64')  \n",
    "    for i in range(0, len_X):\n",
    "        for j in range(0, len_X):\n",
    "            if(i != j):\n",
    "                dis = 0\n",
    "                for k in range(0, X.shape[1]):\n",
    "                    dis = dis + np.square(np.subtract(float(X[i][k]), float(X[j][k])))\n",
    "                distance_matrix[i][j] = np.sqrt(dis) \n",
    "                distance_matrix[j][i] = np.sqrt(dis)\n",
    "    start = time.time()\n",
    "    clusters_pca, clusters = agglomerative_clus(gen_id, distance_matrix, k_value)\n",
    "    heirarical_ground_truth = [0]*len(gen_id)\n",
    "    for i in range(0, len(clusters_pca)):\n",
    "        for j in clusters_pca[i]:\n",
    "            heirarical_ground_truth[int(j)-1] = i\n",
    "    print(\"Time is : \"),\n",
    "    print(\"--- %s seconds ---\" % (time.time() - start))\n",
    "    calculateJackard(ground_truth, heirarical_ground_truth)\n",
    "    Y_pca = runPCA(X)\n"
   ]
  },
  {
   "cell_type": "markdown",
   "metadata": {},
   "source": []
  },
  {
   "cell_type": "code",
   "execution_count": 36,
   "metadata": {},
   "outputs": [
    {
     "name": "stdout",
     "output_type": "stream",
     "text": [
      "Time is : \n",
      "--- 3.4365322589874268 seconds ---\n",
      " Effieciency is : 0.497606898461295\n",
      " Rand is : 0.012440172461532376\n"
     ]
    }
   ],
   "source": [
    "file_name = \"data.txt\"\n",
    "k_value = 1\n",
    "driver(file_name, k_value)"
   ]
  },
  {
   "cell_type": "markdown",
   "metadata": {},
   "source": [
    "# Conclusion\n",
    "We found out that the efficiency comes out to be 0.4976 when we code it via without inbuilt functions of python"
   ]
  },
  {
   "cell_type": "code",
   "execution_count": null,
   "metadata": {
    "collapsed": true
   },
   "outputs": [],
   "source": []
  },
  {
   "cell_type": "code",
   "execution_count": null,
   "metadata": {
    "collapsed": true
   },
   "outputs": [],
   "source": []
  }
 ],
 "metadata": {
  "kernelspec": {
   "display_name": "Python 3",
   "language": "python",
   "name": "python3"
  },
  "language_info": {
   "codemirror_mode": {
    "name": "ipython",
    "version": 3
   },
   "file_extension": ".py",
   "mimetype": "text/x-python",
   "name": "python",
   "nbconvert_exporter": "python",
   "pygments_lexer": "ipython3",
   "version": "3.6.2"
  }
 },
 "nbformat": 4,
 "nbformat_minor": 2
}
